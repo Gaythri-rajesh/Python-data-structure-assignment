{
  "nbformat": 4,
  "nbformat_minor": 0,
  "metadata": {
    "colab": {
      "provenance": []
    },
    "kernelspec": {
      "name": "python3",
      "display_name": "Python 3"
    },
    "language_info": {
      "name": "python"
    }
  },
  "cells": [
    {
      "cell_type": "markdown",
      "source": [
        "# Data Type and Structure Assignment.\n",
        "\n",
        "Theortical Questions\n",
        "\n",
        "1. What are data structure and why are they important?\n",
        "  \n",
        "    -> Data structure are ways of organixzing and storing data in a computer so that it can be accessed and modified effciently. Common examples include arrays,  linked lists, stacks, queues, trees, hash tables, and graphs. Each type of data structure is designed to organize data to suit a specific purpose or solve a particulare kind of problem efficiently.\n",
        "\n",
        "    They are important because they:\n",
        "\n",
        "    1. Enable efficient data access and manipulation, such as quick searching, sorting, inserting, and deleting.\n",
        "\n",
        "    2. Improve the performance of programs by reducing time and space complexity.\n",
        "\n",
        "    3. Support better problem-solving, as many algorithms are based on specific data structures.\n",
        "\n",
        "    4. Help in writing clean and maintainable code, making programs easier to understand and debug.\n",
        "\n",
        "    5. Form the foundation of computer science, being essential for building software, designing systems, and implementing algorithms.\n",
        "\n",
        "\n",
        "2. Explain the difference between mutable and immutable data types with examples.\n",
        "\n",
        "    -> The difference between mutable and immutable data types lies in whether the data can be changed after it is created.\n",
        "\n",
        "    Mutable data types - are those whose values can be changed or modified after creation. This means you can add, remove, or update elements without creating a new object. Examples of mutable data types include list, dictionary (dict), and set.\n",
        "\n",
        "    Example :\n",
        "\n",
        "    my_list = [1, 2, 3]\n",
        "\n",
        "    my_list.append(4)\n",
        "\n",
        "    print(my_list)  # Output: [1, 2, 3, 4]\n",
        "\n",
        "    Immutable data types - are those whose values cannot be changed after creation. If you try to modify them, a new object is created instead of altering the original one. Examples of immutable data types include int, float, string (str), and tuple.\n",
        "\n",
        "    my_str = \"hello\"\n",
        "\n",
        "    my_str = my_str + \" world\"\n",
        "\n",
        "\n",
        "    print(my_str)  # Output: \"hello world\"\n",
        "\n",
        "    In this case, instead of modifying the original string, a new string is created and assigned to my_str.\n",
        "\n",
        "\n",
        "3. What are the main differences between lists and tuples in Python?\n",
        "\n",
        "    ->\n",
        "\n",
        "\n"
      ],
      "metadata": {
        "id": "kyqZomi3RHTq"
      }
    },
    {
      "cell_type": "code",
      "source": [
        "\n"
      ],
      "metadata": {
        "colab": {
          "base_uri": "https://localhost:8080/",
          "height": 303
        },
        "id": "nQRi9tsf3odr",
        "outputId": "5d115f5a-4500-486a-85cf-6de5f4d550ab"
      },
      "execution_count": null,
      "outputs": [
        {
          "output_type": "display_data",
          "data": {
            "text/plain": [
              "<IPython.core.display.HTML object>"
            ],
            "text/html": [
              "\n",
              "<table border=\"1\" cellspacing=\"0\" cellpadding=\"8\">\n",
              "  <tr>\n",
              "    <th><b>Aspect</b></th>\n",
              "    <th><b>List</b></th>\n",
              "    <th><b>Tuple</b></th>\n",
              "  </tr>\n",
              "  <tr>\n",
              "    <td><b>Mutability</b></td>\n",
              "    <td>Mutable (can be changed)</td>\n",
              "    <td>Immutable (cannot be changed)</td>\n",
              "  </tr>\n",
              "  <tr>\n",
              "    <td><b>Syntax</b></td>\n",
              "    <td>Square brackets [ ]</td>\n",
              "    <td>Parentheses ( )</td>\n",
              "  </tr>\n",
              "  <tr>\n",
              "    <td><b>Methods</b></td>\n",
              "    <td>Many methods like append(), remove()</td>\n",
              "    <td>Fewer methods</td>\n",
              "  </tr>\n",
              "  <tr>\n",
              "    <td><b>Performance</b></td>\n",
              "    <td>Slower (more flexible)</td>\n",
              "    <td>Faster (less overhead)</td>\n",
              "  </tr>\n",
              "  <tr>\n",
              "    <td><b>Memory Usage</b></td>\n",
              "    <td>Uses more memory</td>\n",
              "    <td>Uses less memory</td>\n",
              "  </tr>\n",
              "  <tr>\n",
              "    <td><b>Use Case</b></td>\n",
              "    <td>When data needs to change</td>\n",
              "    <td>When data should remain constant</td>\n",
              "  </tr>\n",
              "  <tr>\n",
              "    <td><b>Example</b></td>\n",
              "    <td>my_list = [1, 2, 3]</td>\n",
              "    <td>my_tuple = (1, 2, 3)</td>\n",
              "  </tr>\n",
              "</table>\n"
            ]
          },
          "metadata": {}
        }
      ]
    },
    {
      "cell_type": "markdown",
      "source": [
        "4. Describe how dictionaries store data\n",
        "\n",
        "    -> In Python, dictionaries stores data as key - value pairs using data structure called a hash table.\n",
        "\n",
        "    Each key is passed throough a hashing function that converts it into a unique hash code ( an integer ). This hash code determines the index in an internal array where the corresponding value is stored.\n",
        "\n",
        "     - Key must be immutable ( eg., strings, numberss, tuples).\n",
        "\n",
        "     - Values can be of any data type.\n",
        "\n",
        "     - When retrieving a value, Python hashes the key again and  uses the hash to quickly find the value's location in memory.\n",
        "\n",
        "    This structure allows for constant time complexity (0(1)) for operations like lookup, insert, and delete in most cases.\n",
        "\n",
        "5. Why might you use a set instead of a list in Python?\n",
        "\n",
        "    -> A set is used instead of a list in python when we  want to store only unique elements and do not care about the order of items. Unlike lists, sets automatically remove duplicates, making them ideal for situations where repetition is not allowed.\n",
        "\n",
        "    Another reason to use a set is that searching for an element in a set is faster than in a list. This is because sets are implemented using hash tables , which allows for  average time complexity of O(1) for membership tests, whereas lists take O(n) time.\n",
        "\n",
        "    Additionally, sets provide buit - in support for commomn mathematical operations like union, intersection, and difference, which are usefful when working with collections of unique itrms.\n",
        "\n",
        "    A set is preferred over a lists when:\n",
        "\n",
        "    - Duplicate values should be removed automatically,\n",
        "    - Fast lookup of element is needed,\n",
        "    - The order of elements does not matter,\n",
        "    - Set operations (like union or intersection) are required.\n",
        "\n",
        "6. What is a string in Python, and how is it different from a list?\n",
        "\n",
        "    -> In Python, a string is a sequence of characters enclosed within single quotes(\" \") or double quotes(\" \"). It is used to represent textual data such as words, sentences, or symbols.\n",
        "\n",
        "    Example- my_string = \"hello\"\n",
        "\n",
        "    The main difference between a sting and a list is that strings are immutable, meaning once a string is created, its characters cannot be changed. On the other hanf, lists are mutable, which means you can modify, add, or remove elements after the lists is created. Also, a string can only contain characters, while a list can hold items of different data types such as numbers, strings, or even other lists.\n",
        "\n",
        "    For example, if you have a string s = \"hello\", you cannot change s(0) to 'y', but if you have a list 1 = ['h','e','l','l','o'), you can change 1[0]='y'. This flexibility makes lists suitable for storing and manipulayting collectiions of data, while strings are best for handling fixed text data.\n",
        "\n",
        "7. How do tuples ensure data integrity in Python?\n",
        "\n",
        "    -> In Python, tuples ensure data integrity by being immutable, which means their contents cannot be changed after they are created. Once a tuple is defined, you cannot add,  remove, or modify any of its elements. This immutability helps protect the data from accidental cahnges during program execution.\n",
        "\n",
        "    Because of this property, tuples are often used to store fixed sets of data that should remain constant, such as coordinates, configuration settings, or records that should not be altered, For example, if you store user roles or constant values in a tuple, you consistency and reliability in your program.\n",
        "\n",
        "    In short, by preventing modification, tuples provide a safe way to store and sahre data tht must stay the same, thus helping maintain dta integrity.\n",
        "\n",
        "8. What is a hash table, and how does it relate to dictionaries in Python?\n",
        "\n",
        "    -> In python, a string is a sequence of characters enclosed within single quotes (' '). It is used to represent textual data such as names, sentences, or any group of characters. For example, \"Hello World\" is a string.\n",
        "\n",
        "    The main difference between a string and a list is that strings are immutable, meaning once a string is crrated, its character cannot be changed. On the other hand lists are mutable, which means you vcan modify, add, or remove elements after the  list is created. Also, a string can only contain characters, while a lists can hold items of different data types such as numbers, strings, or even other lists.\n",
        "\n",
        "    For example if you have a sring s=\"hello\", you cannot change s(0) to 'y', but if you have a list l=['h','e','l','l','o'], you can change l[0]='y'. This flexibility makes lists suitable for storing and manipulating collections of data, while strings are best for handling fixed text data.\n",
        "\n",
        "9. Can lists contain different data types in Python?\n",
        "\n",
        "    -> Yes, in python,lists can contain element of different data types. This is one of the flexible features of python lists. A single list can hold integers, float, strings, boolean, other lists, or even custom objects- all in the same collection.\n",
        "\n",
        "    For example, a list like [10, \"hello\", 3.14, True] is perfectly valid in Python. Each element in the list is stored at a specific index, and python dynamically manages the data types internally. This makes lists a powerful tool for storiing and manipulating collections of mixed data.\n",
        "\n",
        "    However, while this flexibility is useful, its important to manage data carefully when using mixed types, especially during iteration or mathematical operations.\n",
        "\n",
        "\n",
        "10. Explain why strings are immutable in Python?\n",
        "\n",
        "    -> In Python, strings are immutable, which means that once a string is created, its contents cannot be changed. This design choice is intentional and offers several benefits. One of the main reasons is performance and memory efficiency—immutable objects can be safely shared across different parts of a program without the risk of being accidentally modified.\n",
        "\n",
        "    Another reason is security and consistency. Since strings are commonly used as keys in dictionaries and other data structures that rely on hashing, immutability ensures that the hash value of a string remains constant. If strings were mutable, changing their contents would break the integrity of data stored in structures like dictionaries or sets.\n",
        "\n",
        "    To modify a string, Python creates a new string object rather than changing the original one. For example, when you try to replace a character in a string, a new string is returned with the changes, and the original string stays unchanged.\n",
        "\n",
        "    In summary, strings are immutable to improve performance, maintain data integrity, and ensure consistent behavior in data structures.\n",
        "\n",
        "11. What advantages do dictionaries offer over lists for certain tasks?\n",
        "\n",
        "    -> Dictionaries offer several advantages over lists, especially when working with key-value pairs and when fast data retrieval is required. The most important benefit is that dictionaries allow you to access data using keys instead of numeric indexes, making your code more readable and meaningful. For example, accessing employee[\"name\"] is more intuitive than employee[0].\n",
        "\n",
        "    Another major advantage is efficiency. Dictionaries use a hash table internally, allowing for constant time (O(1)) access, insertion, and deletion in most cases. In contrast, searching for an element in a list can take linear time (O(n)), especially if the list is large.\n",
        "\n",
        "    Dictionaries are also ideal for representing structured data like records, configurations, or objects. You can map meaningful identifiers (keys) to corresponding values, which is not possible with lists that only use numeric positions.\n",
        "\n",
        "    In summary, dictionaries are preferred over lists when you need fast lookups, unique keys, and a clear way to associate data using names rather than positions.\n",
        "\n",
        "12. Describe a scenario where using a tuple would be preferable over a list.\n",
        "\n",
        "    -> Using a tuple is preferable over a list when you want to store a fixed set of values that should not be changed throughout the program. Since tuples are immutable they provide better data integrity andd are also slightly more mmemory efficient than lists.\n",
        "\n",
        "    For example, if you are storing the coordinates of a point in a 2D space, such as (x, y) = (5, 10), using a tuple makes sense because the coordinates are not meant to be changed. Another scenario is when you are returning multiple values from a function. since the returned values are not expected to be modified, wrapping them in a tuple is safer and clearer.\n",
        "\n",
        "    Tuples are preferred when the data is constant, should be protected from modification, or when you're using it as a key in a dictionary (since only immutable types can be keys).\n",
        "\n",
        "13. How do sets handle duplicate values in Python?\n",
        "\n",
        "    -> In Python, sets automatically remove duplicate values. A set is an unordered collection of unique elements, meaning that each element can appear only once. When you try to add a duplicate value to a set, Python simply ignores it without raising an error.\n",
        "\n",
        "    For example, if you create a set like s = {1, 2, 2, 3}, Python will automatically store it as {1, 2, 3} by removing the repeated 2. This behavior makes sets very useful when you need to eliminate duplicates from a list or ensure that a collection contains only unique items.\n",
        "    \n",
        "    In summary, sets maintain uniqueness automatically, which helps in tasks like filtering duplicate entries from data.\n",
        "\n",
        "14. How does the “in” keyword work differently for lists and dictionaries in python?\n",
        "\n",
        "    -> In Python, the in keyword is used to check if a value exists within a collection, but it behaves differently for lists and dictionaries.\n",
        "\n",
        "    When used with a list, the in keyword checks whether a specific value exists as an element in the list. For example, 5 in [1, 2, 3, 5] returns True because 5 is an item in the list.\n",
        "\n",
        "    However, when used with a dictionary, the in keyword checks whether a key exists, not a value. For example, in the dictionary {\"name\": \"Alice\", \"age\": 25}, the expression \"name\" in dict returns True, but \"Alice\" in dict returns False because \"Alice\" is a value, not a key.\n",
        "\n",
        "    In summary, the in keyword checks for values in lists, but checks for keys in dictionaries.\n",
        "\n",
        "15. Can you modify the elements of a tuple? Explain why or why not.\n",
        "\n",
        "    -> No, you cannot modify the elements of a tuple in Python because tuples are immutable. Once a tuple is created, its elements are fixed and cannot be changed, added, or removed. This means operations like tuple[0] = 10 or tuple.append(5) will result in an error.\n",
        "\n",
        "    This immutability is by design and provides several benefits such as data safety, faster performance, and the ability to use tuples as keys in dictionaries or as elements in sets, which require immutable data types. If you need a collection where the elements might change, you should use a list instead.\n",
        "\n",
        "    In summary, the elements of a tuple cannot be modified because tuples are designed to be unchangeable and secure containers for fixed data.\n",
        "\n",
        "16.  What is a nested dictionary, and give an example of its use case?\n",
        "\n",
        "    -> A nested dictionary in Python is a dictionary where values themselves are dictionaries. This allows for storing structured and hierarchical data in a compact and organized way.\n",
        "\n",
        "    Each key in the outer dictionary maps to another dictionary, enabling multi-level data storage. This is especially useful when working with data that has multiple attributes grouped under a common category.\n",
        "\n",
        "    Use Case Example:\n",
        "    A nested dictionary can be used to store information about multiple students, where each student has details like name, age, and marks.\n",
        "\n",
        "    students = {\n",
        "\n",
        "    \"student1\": {\"name\": \"Alice\",\n",
        "    \"age\": 20, \"marks\": 85},\n",
        "\n",
        "    \"student2\": {\"name\": \"Bob\", \"age\": 22, \"marks\": 90}\n",
        "\n",
        "    }\n",
        "\n",
        "    In this example, \"student1\" and \"student2\" are keys of the outer dictionary, and their values are inner dictionaries containing detailed information about each student.\n",
        "\n",
        "    In summary, nested dictionaries are useful for representing complex data structures, such as records, JSON-like data, or configuration settings.\n",
        "\n",
        "17. Describe the time complexity of accessing elements in a dictionary.\n",
        "\n",
        "    -> In Python, accessing elements in a dictionary has an average time complexity of O(1), which means it takes constant time regardless of the size of the dictionary. This efficiency is due to the underlying hash table implementation of dictionaries. When you access a value using a key (e.g., my_dict[\"name\"]), Python computes the hash of the key and directly locates the associated value in memory.\n",
        "\n",
        "    However, in rare cases—such as hash collisions—the time complexity can degrade to O(n), but Python uses efficient collision-handling techniques to minimize this risk.\n",
        "\n",
        "    In summary, dictionary access is usually very fast and efficient, making dictionaries ideal for tasks where quick lookups by key are needed.\n",
        "\n",
        "18. In what situations are lists preferred over dictionaries?\n",
        "\n",
        "    -> Lists are preferred over dictionaries in situations where the order of elements matters or when you need to work with a simple collection of items without needing key-value associations. For example, when storing a sequence of numbers, names, or items where position (index) is important, a list is more suitable.\n",
        "\n",
        "    Lists are also ideal when you need to iterate through elements in order, perform operations like sorting, or when working with duplicates, as dictionaries do not allow duplicate keys. Additionally, lists are generally simpler and more memory-efficient when you only need to store values without assigning a specific key to each one.\n",
        "\n",
        "    In summary, use a list when you only need to store values in order and access them by position, rather than by name or identifier.\n",
        "\n",
        "19.  Why are dictionaries considered unordered, and how does that affect data retrieval?\n",
        "\n",
        "    -> Dictionaries in Python were traditionally considered unordered because they store key-value pairs based on the key’s hash value, not the order in which they were added. This means that before Python 3.7, when you iterated over a dictionary, the elements could appear in any order, and you couldn't rely on them being returned in the same sequence you inserted them.\n",
        "\n",
        "    However, starting from Python 3.7 and officially in 3.8, dictionaries preserve insertion order, but they are still often referred to as unordered because data retrieval is based on keys, not positions. This affects retrieval in the sense that you can't access items by index (like dict[0]), only by their specific keys (like dict[\"name\"]).\n",
        "\n",
        "    In summary, dictionaries are unordered in the sense that you retrieve values using keys, not positions, and you can't assume a fixed order unless you're using a version of Python where insertion order is preserved.\n",
        "\n",
        "\n",
        "20. Explain the difference between a list and a dictionary in terms of data retrieval.\n",
        "\n",
        "    -> The main difference between a list and a dictionary in terms of data retrieval is how the data is accessed. In a list, elements are retrieved using index positions, which are integers starting from 0. For example, my_list[0] retrieves the first element. This means you must know the position of the element in order to access it.\n",
        "\n",
        "    In contrast, a dictionary retrieves data using keys, which can be strings, numbers, or other immutable types. For example, my_dict[\"name\"] retrieves the value associated with the key \"name\". This allows for faster and more meaningful lookups, especially when the data is structured in key-value pairs.\n",
        "\n",
        "    In summary, lists are accessed by numeric positions, while dictionaries are accessed by keys, making dictionaries more suitable for labeled or structured data retrieval.\n",
        "\n",
        "    \n",
        "\n",
        "   "
      ],
      "metadata": {
        "id": "0h6KeGcT3y1N"
      }
    },
    {
      "cell_type": "markdown",
      "source": [
        "# Practical Questions\n",
        "\n",
        "1. Write a code to create a string with your name and print it."
      ],
      "metadata": {
        "id": "RUrj6ZsHNCoD"
      }
    },
    {
      "cell_type": "code",
      "source": [
        "my_name = \"Gayathri Rajesh\"\n",
        "\n",
        "print ( \"My name is:\" , my_name)"
      ],
      "metadata": {
        "colab": {
          "base_uri": "https://localhost:8080/"
        },
        "id": "Cy_sKB3Lkm13",
        "outputId": "1f871219-a16b-4225-ad62-3c7af151fc1d"
      },
      "execution_count": null,
      "outputs": [
        {
          "output_type": "stream",
          "name": "stdout",
          "text": [
            "My name is: Gayathri Rajesh\n"
          ]
        }
      ]
    },
    {
      "cell_type": "markdown",
      "source": [
        "2. Write a code to find the length of the string \"Hello World\""
      ],
      "metadata": {
        "id": "TSV4G5o0k8Wn"
      }
    },
    {
      "cell_type": "code",
      "source": [
        "text = \"Hello World\"\n",
        "\n",
        "length = len(text)\n",
        "\n",
        "print(\"the length of the string is:\", length)"
      ],
      "metadata": {
        "colab": {
          "base_uri": "https://localhost:8080/"
        },
        "id": "5asdTYG7lIUQ",
        "outputId": "fd5d0f51-6c60-4b49-f8b5-b66a32565ae9"
      },
      "execution_count": null,
      "outputs": [
        {
          "output_type": "stream",
          "name": "stdout",
          "text": [
            "the length of the string is: 11\n"
          ]
        }
      ]
    },
    {
      "cell_type": "markdown",
      "source": [
        "3. Write a code to slice the first 3 characters from the string \"Python Programming\""
      ],
      "metadata": {
        "id": "xbVjopDple34"
      }
    },
    {
      "cell_type": "code",
      "source": [
        "text = \"python programming\"\n",
        "\n",
        "sliced_text = text[:3]\n",
        "\n",
        "print(\"first 3 character:\",sliced_text)"
      ],
      "metadata": {
        "colab": {
          "base_uri": "https://localhost:8080/"
        },
        "id": "eerr_P46lmOS",
        "outputId": "616369c3-054d-4f2a-a2e7-68809ec8c579"
      },
      "execution_count": null,
      "outputs": [
        {
          "output_type": "stream",
          "name": "stdout",
          "text": [
            "first 3 character: pyt\n"
          ]
        }
      ]
    },
    {
      "cell_type": "markdown",
      "source": [
        "4. Write a code to convert the string \"hello\" to uppercase."
      ],
      "metadata": {
        "id": "vx7oHBrimH0I"
      }
    },
    {
      "cell_type": "code",
      "source": [
        "text = \"hello\"\n",
        "uppercase_text = text.upper()\n",
        "print(\"Uppercase:\", uppercase_text)"
      ],
      "metadata": {
        "colab": {
          "base_uri": "https://localhost:8080/"
        },
        "id": "nzOJ4koPmOla",
        "outputId": "b90b6c3f-2379-4366-dc8f-67cac35debe0"
      },
      "execution_count": null,
      "outputs": [
        {
          "output_type": "stream",
          "name": "stdout",
          "text": [
            "Uppercase: HELLO\n"
          ]
        }
      ]
    },
    {
      "cell_type": "markdown",
      "source": [
        "5. Write a code to replace the word \"apple\" with \"orange\" in the string \"I like apple.\n"
      ],
      "metadata": {
        "id": "k3MVeoufme9h"
      }
    },
    {
      "cell_type": "code",
      "source": [
        "text = \"I like apple\"\n",
        "new_text = text.replace(\"apple\", \"orange\")\n",
        "print(\"Updated string:\", new_text)"
      ],
      "metadata": {
        "colab": {
          "base_uri": "https://localhost:8080/"
        },
        "id": "f0NebIxSmmoO",
        "outputId": "6f4f8637-cac1-4689-e66c-bb7fca00d6f9"
      },
      "execution_count": null,
      "outputs": [
        {
          "output_type": "stream",
          "name": "stdout",
          "text": [
            "Updated string: I like orange\n"
          ]
        }
      ]
    },
    {
      "cell_type": "markdown",
      "source": [
        "6. Write a code to create a list with numbers 1 to 5 and print it.\n"
      ],
      "metadata": {
        "id": "IkSIjZmSmxR-"
      }
    },
    {
      "cell_type": "code",
      "source": [
        "numbers = [1, 2, 3, 4, 5]\n",
        "print(\"List of numbers:\", numbers)"
      ],
      "metadata": {
        "colab": {
          "base_uri": "https://localhost:8080/"
        },
        "id": "GG1jAcm4m5TB",
        "outputId": "f696ae36-a012-4282-cc8b-8e36d665f49f"
      },
      "execution_count": null,
      "outputs": [
        {
          "output_type": "stream",
          "name": "stdout",
          "text": [
            "List of numbers: [1, 2, 3, 4, 5]\n"
          ]
        }
      ]
    },
    {
      "cell_type": "markdown",
      "source": [
        "7. Write a code to append the number 10 to the list [1, 2, 3, 4]."
      ],
      "metadata": {
        "id": "GJl9wVbinFvo"
      }
    },
    {
      "cell_type": "code",
      "source": [
        "numbers = [1, 2, 3, 4]\n",
        "numbers.append(10)\n",
        "print(\"Updated list:\", numbers)"
      ],
      "metadata": {
        "colab": {
          "base_uri": "https://localhost:8080/"
        },
        "id": "7gVzN91vqRsM",
        "outputId": "ec465416-33a7-433d-8d10-a93363cdc192"
      },
      "execution_count": null,
      "outputs": [
        {
          "output_type": "stream",
          "name": "stdout",
          "text": [
            "Updated list: [1, 2, 3, 4, 10]\n"
          ]
        }
      ]
    },
    {
      "cell_type": "markdown",
      "source": [
        "8. Write a code to remove the number 3 from the list [1, 2, 3, 4, 5]."
      ],
      "metadata": {
        "id": "bm6-iXk9qYGV"
      }
    },
    {
      "cell_type": "code",
      "source": [
        "numbers = [1, 2, 3, 4, 5]\n",
        "numbers.remove(3)\n",
        "print(\"Updated list:\", numbers)"
      ],
      "metadata": {
        "colab": {
          "base_uri": "https://localhost:8080/"
        },
        "id": "giq3pIp1rDzB",
        "outputId": "a61dbea1-2a07-4c08-87aa-7e5fcb22b72c"
      },
      "execution_count": null,
      "outputs": [
        {
          "output_type": "stream",
          "name": "stdout",
          "text": [
            "Updated list: [1, 2, 4, 5]\n"
          ]
        }
      ]
    },
    {
      "cell_type": "markdown",
      "source": [
        "9. Write a code to access the second element in the list ['a', 'b', 'c', 'd']."
      ],
      "metadata": {
        "id": "WAFeYEKurLXE"
      }
    },
    {
      "cell_type": "code",
      "source": [
        "letters = ['a', 'b', 'c', 'd']\n",
        "second_element = letters[1]\n",
        "print(\"Second element:\", second_element)"
      ],
      "metadata": {
        "colab": {
          "base_uri": "https://localhost:8080/"
        },
        "id": "eeEPeS-jrTzX",
        "outputId": "996fdb1d-e151-445e-a80c-7092e919d14b"
      },
      "execution_count": null,
      "outputs": [
        {
          "output_type": "stream",
          "name": "stdout",
          "text": [
            "Second element: b\n"
          ]
        }
      ]
    },
    {
      "cell_type": "markdown",
      "source": [
        "10. Write a code to reverse the list [10, 20, 30, 40, 50].\n",
        "\n",
        "\n"
      ],
      "metadata": {
        "id": "9ErXDpsnrcVc"
      }
    },
    {
      "cell_type": "code",
      "source": [
        "lst = [10, 20, 30, 40, 50]\n",
        "reversed_lst = lst[::-1]\n",
        "print(reversed_lst)"
      ],
      "metadata": {
        "colab": {
          "base_uri": "https://localhost:8080/"
        },
        "id": "cpBbsF5Crl8p",
        "outputId": "d9dd6670-eef4-4151-af8c-87630e7be7e5"
      },
      "execution_count": null,
      "outputs": [
        {
          "output_type": "stream",
          "name": "stdout",
          "text": [
            "[50, 40, 30, 20, 10]\n"
          ]
        }
      ]
    },
    {
      "cell_type": "markdown",
      "source": [
        "11.  Write a code to create a tuple with the elements 100, 200, 300 and print it."
      ],
      "metadata": {
        "id": "p9vX1s0QrspQ"
      }
    },
    {
      "cell_type": "code",
      "source": [
        "tup = (100, 200, 300)\n",
        "print(tup)\n"
      ],
      "metadata": {
        "colab": {
          "base_uri": "https://localhost:8080/"
        },
        "id": "VIIM67CprwyX",
        "outputId": "83d2d26e-c75f-4701-dcf1-14a5aeb19f36"
      },
      "execution_count": null,
      "outputs": [
        {
          "output_type": "stream",
          "name": "stdout",
          "text": [
            "(100, 200, 300)\n"
          ]
        }
      ]
    },
    {
      "cell_type": "markdown",
      "source": [
        "12. Write a code to access the second-to-last element of the tuple ('red', 'green', 'blue', 'yellow')."
      ],
      "metadata": {
        "id": "AL_vfkWqr00A"
      }
    },
    {
      "cell_type": "code",
      "source": [
        "colors = ('red', 'green', 'blue', 'yellow')\n",
        "second_last = colors[-2]\n",
        "print(second_last)\n"
      ],
      "metadata": {
        "colab": {
          "base_uri": "https://localhost:8080/"
        },
        "id": "C9QuuP2_r3q7",
        "outputId": "4903c586-0676-4134-e80e-d84585d4a838"
      },
      "execution_count": null,
      "outputs": [
        {
          "output_type": "stream",
          "name": "stdout",
          "text": [
            "blue\n"
          ]
        }
      ]
    },
    {
      "cell_type": "markdown",
      "source": [
        "13. Here's a Python code snippet to find the minimum number in the tuple (10, 20, 5, 15)\n"
      ],
      "metadata": {
        "id": "0naIjYgwsC2B"
      }
    },
    {
      "cell_type": "code",
      "source": [
        "numbers = (10, 20, 5, 15)\n",
        "min_number = min(numbers)\n",
        "print(min_number)\n"
      ],
      "metadata": {
        "colab": {
          "base_uri": "https://localhost:8080/"
        },
        "id": "AqVrAvxgsLw_",
        "outputId": "59327035-eb29-48d9-99e0-6b66c1c96c77"
      },
      "execution_count": null,
      "outputs": [
        {
          "output_type": "stream",
          "name": "stdout",
          "text": [
            "5\n"
          ]
        }
      ]
    },
    {
      "cell_type": "markdown",
      "source": [
        "14. Write a code to find the index of the element \"cat\" in the tuple ('dog', 'cat', 'rabbit')."
      ],
      "metadata": {
        "id": "KEIVa1N5sghm"
      }
    },
    {
      "cell_type": "code",
      "source": [
        "animals = ('dog', 'cat', 'rabbit')\n",
        "index_of_cat = animals.index('cat')\n",
        "print(index_of_cat)\n"
      ],
      "metadata": {
        "colab": {
          "base_uri": "https://localhost:8080/"
        },
        "id": "E_xQd3vRsmMs",
        "outputId": "2e64d5ae-e7fe-4b01-e300-026f0ca2e491"
      },
      "execution_count": null,
      "outputs": [
        {
          "output_type": "stream",
          "name": "stdout",
          "text": [
            "1\n"
          ]
        }
      ]
    },
    {
      "cell_type": "markdown",
      "source": [
        "15. Write a code to create a tuple containing three different fruits and check if \"kiwi\" is in it."
      ],
      "metadata": {
        "id": "-_eANOrNsqHF"
      }
    },
    {
      "cell_type": "code",
      "source": [
        "fruits = ('apple', 'banana', 'orange')\n",
        "\n",
        "if 'kiwi' in fruits:\n",
        "    print(\"Kiwi is in the tuple.\")\n",
        "else:\n",
        "    print(\"Kiwi is not in the tuple.\")\n"
      ],
      "metadata": {
        "colab": {
          "base_uri": "https://localhost:8080/"
        },
        "id": "j3jX7l6vs141",
        "outputId": "447153d9-46a5-4cb9-8a0c-f637e04a1f3e"
      },
      "execution_count": null,
      "outputs": [
        {
          "output_type": "stream",
          "name": "stdout",
          "text": [
            "Kiwi is not in the tuple.\n"
          ]
        }
      ]
    },
    {
      "cell_type": "markdown",
      "source": [
        "16.  Write a code to create a set with the elements 'a', 'b', 'c' and print it"
      ],
      "metadata": {
        "id": "koG-V542s-Sc"
      }
    },
    {
      "cell_type": "code",
      "source": [
        "my_set = {'a', 'b', 'c'}\n",
        "print(my_set)\n"
      ],
      "metadata": {
        "colab": {
          "base_uri": "https://localhost:8080/"
        },
        "id": "zlaKgrWFtEwh",
        "outputId": "bad6460f-cacc-440e-c583-1b2e53a9ede0"
      },
      "execution_count": null,
      "outputs": [
        {
          "output_type": "stream",
          "name": "stdout",
          "text": [
            "{'a', 'b', 'c'}\n"
          ]
        }
      ]
    },
    {
      "cell_type": "markdown",
      "source": [
        "17.  Write a code to clear all elements from the set {1, 2, 3, 4, 5}."
      ],
      "metadata": {
        "id": "H-aVxBJOtJ50"
      }
    },
    {
      "cell_type": "code",
      "source": [
        "my_set = {1, 2, 3, 4, 5}\n",
        "my_set.clear()\n",
        "print(my_set)\n"
      ],
      "metadata": {
        "colab": {
          "base_uri": "https://localhost:8080/"
        },
        "id": "7bzgIApqtP8Z",
        "outputId": "ebc08e31-dee3-49ff-cf7c-c0e2cd1939b0"
      },
      "execution_count": null,
      "outputs": [
        {
          "output_type": "stream",
          "name": "stdout",
          "text": [
            "set()\n"
          ]
        }
      ]
    },
    {
      "cell_type": "markdown",
      "source": [
        "18. Write a code to remove the element 4 from the set {1, 2, 3, 4}."
      ],
      "metadata": {
        "id": "OnRb7eAxtR8G"
      }
    },
    {
      "cell_type": "code",
      "source": [
        "my_set = {1, 2, 3, 4}\n",
        "my_set.remove(4)\n",
        "print(my_set)\n"
      ],
      "metadata": {
        "colab": {
          "base_uri": "https://localhost:8080/"
        },
        "id": "SAXb9GSatZXQ",
        "outputId": "ebb9fc64-6b4a-4f3e-91f1-38f351c261e7"
      },
      "execution_count": null,
      "outputs": [
        {
          "output_type": "stream",
          "name": "stdout",
          "text": [
            "{1, 2, 3}\n"
          ]
        }
      ]
    },
    {
      "cell_type": "markdown",
      "source": [
        "19. Write a code to find the union of two sets {1, 2, 3} and {3, 4, 5}."
      ],
      "metadata": {
        "id": "95kFGjTWteuq"
      }
    },
    {
      "cell_type": "code",
      "source": [
        "set1 = {1, 2, 3}\n",
        "set2 = {3, 4, 5}\n",
        "union_set = set1.union(set2)\n",
        "print(union_set)\n"
      ],
      "metadata": {
        "colab": {
          "base_uri": "https://localhost:8080/"
        },
        "id": "U3KxGvKVtpvO",
        "outputId": "7583b624-e383-48a3-93e3-e50cbb555041"
      },
      "execution_count": null,
      "outputs": [
        {
          "output_type": "stream",
          "name": "stdout",
          "text": [
            "{1, 2, 3, 4, 5}\n"
          ]
        }
      ]
    },
    {
      "cell_type": "markdown",
      "source": [
        "20. Write a code to find the intersection of two sets {1, 2, 3} and {2, 3, 4}."
      ],
      "metadata": {
        "id": "rk5nvkf9tsTM"
      }
    },
    {
      "cell_type": "code",
      "source": [
        "set1 = {1, 2, 3}\n",
        "set2 = {2, 3, 4}\n",
        "intersection_set = set1.intersection(set2)\n",
        "print(intersection_set)\n"
      ],
      "metadata": {
        "colab": {
          "base_uri": "https://localhost:8080/"
        },
        "id": "MRwcD3xdtyT0",
        "outputId": "2671075a-3dab-4ffc-a15a-ba498b367599"
      },
      "execution_count": null,
      "outputs": [
        {
          "output_type": "stream",
          "name": "stdout",
          "text": [
            "{2, 3}\n"
          ]
        }
      ]
    },
    {
      "cell_type": "markdown",
      "source": [
        "21. Write a code to create a dictionary with the keys \"name\", \"age\", and \"city\", and print it."
      ],
      "metadata": {
        "id": "2HEIuDWIt2gA"
      }
    },
    {
      "cell_type": "code",
      "source": [
        "person = {\n",
        "    \"name\": \"Alice\",\n",
        "    \"age\": 30,\n",
        "    \"city\": \"New York\"\n",
        "}\n",
        "print(person)\n"
      ],
      "metadata": {
        "colab": {
          "base_uri": "https://localhost:8080/"
        },
        "id": "vT7e7KkWt8Hl",
        "outputId": "72fe34b4-1da0-4cd0-9ab7-3682ed6f9e68"
      },
      "execution_count": null,
      "outputs": [
        {
          "output_type": "stream",
          "name": "stdout",
          "text": [
            "{'name': 'Alice', 'age': 30, 'city': 'New York'}\n"
          ]
        }
      ]
    },
    {
      "cell_type": "markdown",
      "source": [
        "22. Write a code to add a new key-value pair \"country\": \"USA\" to the dictionary {'name': 'John', 'age': 25}\n"
      ],
      "metadata": {
        "id": "j9NPTeEpuCGX"
      }
    },
    {
      "cell_type": "code",
      "source": [
        "person = {'name': 'John', 'age': 25}\n",
        "person['country'] = 'USA'\n",
        "print(person)\n"
      ],
      "metadata": {
        "colab": {
          "base_uri": "https://localhost:8080/"
        },
        "id": "2iYKauFvuNLU",
        "outputId": "4f95b52c-de01-4562-ab17-d7967fe75b9c"
      },
      "execution_count": null,
      "outputs": [
        {
          "output_type": "stream",
          "name": "stdout",
          "text": [
            "{'name': 'John', 'age': 25, 'country': 'USA'}\n"
          ]
        }
      ]
    },
    {
      "cell_type": "markdown",
      "source": [
        "23. . Write a code to access the value associated with the key \"name\" in the dictionary {'name': 'Alice', 'age': 30}."
      ],
      "metadata": {
        "id": "799W92OCuQbW"
      }
    },
    {
      "cell_type": "code",
      "source": [
        "person = {'name': 'Alice', 'age': 30}\n",
        "name_value = person['name']\n",
        "print(name_value)\n"
      ],
      "metadata": {
        "colab": {
          "base_uri": "https://localhost:8080/"
        },
        "id": "SKTX4aoouWEw",
        "outputId": "5adbd4b1-6f1e-4ca1-efdf-8a6696f4a0a9"
      },
      "execution_count": null,
      "outputs": [
        {
          "output_type": "stream",
          "name": "stdout",
          "text": [
            "Alice\n"
          ]
        }
      ]
    },
    {
      "cell_type": "markdown",
      "source": [
        "24.  Write a code to remove the key \"age\" from the dictionary {'name': 'Bob', 'age': 22, 'city': 'New York'}."
      ],
      "metadata": {
        "id": "PUkykRXCuaaD"
      }
    },
    {
      "cell_type": "code",
      "source": [
        "person = {'name': 'Bob', 'age': 22, 'city': 'New York'}\n",
        "person.pop('age')\n",
        "print(person)\n"
      ],
      "metadata": {
        "colab": {
          "base_uri": "https://localhost:8080/"
        },
        "id": "mNiGEtOAue9b",
        "outputId": "38f808e2-f33b-43aa-f3c6-cb5f13ba7a67"
      },
      "execution_count": null,
      "outputs": [
        {
          "output_type": "stream",
          "name": "stdout",
          "text": [
            "{'name': 'Bob', 'city': 'New York'}\n"
          ]
        }
      ]
    },
    {
      "cell_type": "markdown",
      "source": [
        "25.  Write a code to check if the key \"city\" exists in the dictionary {'name': 'Alice', 'city': 'Paris'}."
      ],
      "metadata": {
        "id": "8W6dcMTPurDd"
      }
    },
    {
      "cell_type": "code",
      "source": [
        "person = {'name': 'Alice', 'city': 'Paris'}\n",
        "\n",
        "if 'city' in person:\n",
        "    print(\"Key 'city' exists in the dictionary.\")\n",
        "else:\n",
        "    print(\"Key 'city' does not exist in the dictionary.\")\n"
      ],
      "metadata": {
        "colab": {
          "base_uri": "https://localhost:8080/"
        },
        "id": "UIx_2S7iuxGF",
        "outputId": "2b73c579-57db-43ee-97d4-70f6a017f8e0"
      },
      "execution_count": null,
      "outputs": [
        {
          "output_type": "stream",
          "name": "stdout",
          "text": [
            "Key 'city' exists in the dictionary.\n"
          ]
        }
      ]
    },
    {
      "cell_type": "markdown",
      "source": [
        "26. . Write a code to create a list, a tuple, and a dictionary, and print them all."
      ],
      "metadata": {
        "id": "Y--rjXaWu1C5"
      }
    },
    {
      "cell_type": "code",
      "source": [
        "my_list = [1, 2, 3]\n",
        "my_tuple = ('a', 'b', 'c')\n",
        "my_dict = {'name':'Alice', 'age': 25}\n",
        "print(\"List:\", my_list)\n",
        "print(\"Tuple:\", my_tuple)\n",
        "print(\"Dictionary:\", my_dict)"
      ],
      "metadata": {
        "colab": {
          "base_uri": "https://localhost:8080/"
        },
        "id": "5g-KgPP-u6_G",
        "outputId": "c09780f3-fdb9-42a9-a640-25337db34f24"
      },
      "execution_count": null,
      "outputs": [
        {
          "output_type": "stream",
          "name": "stdout",
          "text": [
            "List: [1, 2, 3]\n",
            "Tuple: ('a', 'b', 'c')\n",
            "Dictionary: {'name': 'Alice', 'age': 25}\n"
          ]
        }
      ]
    },
    {
      "cell_type": "markdown",
      "source": [
        "27. Write a code to create a list of 5 random numbers between 1 and 100, sort it in ascending order, and print the  result.(replaced)"
      ],
      "metadata": {
        "id": "ORiOH4ERvqHp"
      }
    },
    {
      "cell_type": "code",
      "source": [
        "import random\n",
        "random_numbers = [random.randint(1, 100) for _ in range(5)]\n",
        "random_numbers.sort()\n",
        "print(random_numbers)"
      ],
      "metadata": {
        "colab": {
          "base_uri": "https://localhost:8080/"
        },
        "id": "WGX2ws9rwDx6",
        "outputId": "36f1f43e-85f3-4b09-dd07-7ccad26e592a"
      },
      "execution_count": null,
      "outputs": [
        {
          "output_type": "stream",
          "name": "stdout",
          "text": [
            "[2, 8, 32, 68, 75]\n"
          ]
        }
      ]
    },
    {
      "cell_type": "markdown",
      "source": [
        "28. Write a code to create a list with strings and print the element at the third index."
      ],
      "metadata": {
        "id": "H4Ddb9iiwPXV"
      }
    },
    {
      "cell_type": "code",
      "source": [
        "my_list = ['apple', 'banana', 'cherry', 'date', 'elderberry']\n",
        "print(my_list[3])\n"
      ],
      "metadata": {
        "colab": {
          "base_uri": "https://localhost:8080/"
        },
        "id": "akRtWe4swVzR",
        "outputId": "c4b963d2-88a7-42a9-dc7d-b48f07114f61"
      },
      "execution_count": null,
      "outputs": [
        {
          "output_type": "stream",
          "name": "stdout",
          "text": [
            "date\n"
          ]
        }
      ]
    },
    {
      "cell_type": "markdown",
      "source": [
        "29.  Write a code to combine two dictionaries into one and print the result."
      ],
      "metadata": {
        "id": "mJxHz_rQwZOx"
      }
    },
    {
      "cell_type": "code",
      "source": [
        "dict1 = {'a': 1, 'b': 2}\n",
        "dict2 = {'c': 3, 'd': 4}\n",
        "\n",
        "\n",
        "combined_dict = {**dict1, **dict2}\n",
        "\n",
        "print(combined_dict)\n"
      ],
      "metadata": {
        "colab": {
          "base_uri": "https://localhost:8080/"
        },
        "id": "38McQzihwdz0",
        "outputId": "c96e7584-2369-4181-f88c-3807e3818cbc"
      },
      "execution_count": null,
      "outputs": [
        {
          "output_type": "stream",
          "name": "stdout",
          "text": [
            "{'a': 1, 'b': 2, 'c': 3, 'd': 4}\n"
          ]
        }
      ]
    },
    {
      "cell_type": "markdown",
      "source": [
        "30. Write a code to convert a list of strings into a set."
      ],
      "metadata": {
        "id": "zWVIc0zqwhag"
      }
    },
    {
      "cell_type": "code",
      "source": [
        "my_list = ['apple', 'banana', 'apple', 'cherry']\n",
        "my_set = set(my_list)\n",
        "print(my_set)\n"
      ],
      "metadata": {
        "id": "Rkq9VSm6wqyp",
        "outputId": "d7291828-7af6-4b65-e014-db52c7473632",
        "colab": {
          "base_uri": "https://localhost:8080/"
        }
      },
      "execution_count": null,
      "outputs": [
        {
          "output_type": "stream",
          "name": "stdout",
          "text": [
            "{'apple', 'cherry', 'banana'}\n"
          ]
        }
      ]
    }
  ]
}